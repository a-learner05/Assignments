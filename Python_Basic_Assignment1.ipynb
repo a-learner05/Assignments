{
 "cells": [
  {
   "cell_type": "markdown",
   "metadata": {},
   "source": [
    "# 1.\tWrite a Python program to print \"Hello Python\"?"
   ]
  },
  {
   "cell_type": "code",
   "execution_count": 1,
   "metadata": {},
   "outputs": [
    {
     "name": "stdout",
     "output_type": "stream",
     "text": [
      "Hello Python\n"
     ]
    }
   ],
   "source": [
    "print(\"Hello Python\")"
   ]
  },
  {
   "cell_type": "markdown",
   "metadata": {},
   "source": [
    "# 2.\tWrite a Python program to do arithmetical operations addition and division.?"
   ]
  },
  {
   "cell_type": "code",
   "execution_count": 5,
   "metadata": {},
   "outputs": [
    {
     "name": "stdout",
     "output_type": "stream",
     "text": [
      "Enter 2 numbers: \n",
      "10\n",
      "20\n",
      "Addition of numbers:  30\n",
      "Division of numbers:  0.5\n"
     ]
    }
   ],
   "source": [
    "print(\"Enter 2 numbers: \")\n",
    "a, b = int(input()), int(input())\n",
    "print(\"Addition of numbers: \", a+b)\n",
    "print(\"Division of numbers: \", a/b)\n"
   ]
  },
  {
   "cell_type": "markdown",
   "metadata": {},
   "source": [
    "# 3.\tWrite a Python program to find the area of a triangle?"
   ]
  },
  {
   "cell_type": "code",
   "execution_count": 6,
   "metadata": {},
   "outputs": [
    {
     "name": "stdout",
     "output_type": "stream",
     "text": [
      "Enter base and height of triangle: \n",
      "0.9\n",
      "8\n",
      "Area of Triangle=  3.6\n"
     ]
    }
   ],
   "source": [
    "print(\"Enter base and height of triangle: \")\n",
    "b, h = float(input()), float(input())\n",
    "print(\"Area of Triangle= \", (0.5 * b * h))"
   ]
  },
  {
   "cell_type": "markdown",
   "metadata": {},
   "source": [
    "# 4.\tWrite a Python program to swap two variables?"
   ]
  },
  {
   "cell_type": "code",
   "execution_count": 26,
   "metadata": {},
   "outputs": [
    {
     "name": "stdout",
     "output_type": "stream",
     "text": [
      "Enter 2 numbers: \n",
      "10\n",
      "20\n",
      "Num1:  10  Num2:  20\n",
      "Num1:  20  Num2:  10\n"
     ]
    }
   ],
   "source": [
    "\n",
    "print(\"Enter 2 numbers: \")\n",
    "a, b = int(input()), int(input())\n",
    "\n",
    "print(\"Num1: \",a , \" Num2: \",b)\n",
    "temp = a\n",
    "a, b = b, temp\n",
    "\n",
    "#Step 2 : a, b = b, a\n",
    "print(\"Num1: \",a, \" Num2: \",b)\n",
    "\n"
   ]
  },
  {
   "cell_type": "markdown",
   "metadata": {},
   "source": [
    "# 5.\tWrite a Python program to generate a random number?"
   ]
  },
  {
   "cell_type": "code",
   "execution_count": 4,
   "metadata": {},
   "outputs": [
    {
     "name": "stdout",
     "output_type": "stream",
     "text": [
      "0.9867308788365848\n"
     ]
    }
   ],
   "source": [
    "import random\n",
    "n = random.random()         # it generates a random float number between 0 and 1\n",
    "print(n)"
   ]
  },
  {
   "cell_type": "code",
   "execution_count": null,
   "metadata": {},
   "outputs": [],
   "source": []
  }
 ],
 "metadata": {
  "kernelspec": {
   "display_name": "Python 3",
   "language": "python",
   "name": "python3"
  },
  "language_info": {
   "codemirror_mode": {
    "name": "ipython",
    "version": 3
   },
   "file_extension": ".py",
   "mimetype": "text/x-python",
   "name": "python",
   "nbconvert_exporter": "python",
   "pygments_lexer": "ipython3",
   "version": "3.6.4"
  }
 },
 "nbformat": 4,
 "nbformat_minor": 2
}
