{
 "cells": [
  {
   "cell_type": "markdown",
   "metadata": {},
   "source": [
    "# 1.\tWrite a Python program to convert kilometers to miles?"
   ]
  },
  {
   "cell_type": "code",
   "execution_count": 70,
   "metadata": {},
   "outputs": [
    {
     "name": "stdout",
     "output_type": "stream",
     "text": [
      "Kilometers to miles converter..\n",
      "Input Kilometers: \n",
      "486\n",
      "In Miles:  302\n"
     ]
    },
    {
     "data": {
      "text/plain": [
       "301"
      ]
     },
     "execution_count": 70,
     "metadata": {},
     "output_type": "execute_result"
    }
   ],
   "source": [
    "#1 km = 0.621371 mile\n",
    "import math\n",
    "mile = 0.621371\n",
    "print(\"Kilometers to miles converter..\")\n",
    "print(\"Input Kilometers: \")\n",
    "km = float(input())\n",
    "print(\"In Miles: \", math.ceil(km * mile))\n"
   ]
  },
  {
   "cell_type": "markdown",
   "metadata": {},
   "source": [
    "# 2.\tWrite a Python program to convert Celsius to Fahrenheit?"
   ]
  },
  {
   "cell_type": "code",
   "execution_count": 71,
   "metadata": {},
   "outputs": [
    {
     "name": "stdout",
     "output_type": "stream",
     "text": [
      "Celsius: \n",
      "50\n",
      "Farenheit: 122.0\n"
     ]
    }
   ],
   "source": [
    "#(°C × 9/5) + 32 = °F\n",
    "\n",
    "print(\"Celsius: \")\n",
    "c = float(input())\n",
    "print(\"Farenheit: {}\".format((c*(9/5))+32))\n"
   ]
  },
  {
   "cell_type": "markdown",
   "metadata": {},
   "source": [
    "# 3.\tWrite a Python program to display calendar?"
   ]
  },
  {
   "cell_type": "code",
   "execution_count": 63,
   "metadata": {
    "collapsed": true
   },
   "outputs": [
    {
     "name": "stdout",
     "output_type": "stream",
     "text": [
      "Enter Year: \n",
      "1992\n",
      "                                  1992\n",
      "\n",
      "      January                   February                   March\n",
      "Mo Tu We Th Fr Sa Su      Mo Tu We Th Fr Sa Su      Mo Tu We Th Fr Sa Su\n",
      "       1  2  3  4  5                      1  2                         1\n",
      " 6  7  8  9 10 11 12       3  4  5  6  7  8  9       2  3  4  5  6  7  8\n",
      "13 14 15 16 17 18 19      10 11 12 13 14 15 16       9 10 11 12 13 14 15\n",
      "20 21 22 23 24 25 26      17 18 19 20 21 22 23      16 17 18 19 20 21 22\n",
      "27 28 29 30 31            24 25 26 27 28 29         23 24 25 26 27 28 29\n",
      "                                                    30 31\n",
      "\n",
      "       April                      May                       June\n",
      "Mo Tu We Th Fr Sa Su      Mo Tu We Th Fr Sa Su      Mo Tu We Th Fr Sa Su\n",
      "       1  2  3  4  5                   1  2  3       1  2  3  4  5  6  7\n",
      " 6  7  8  9 10 11 12       4  5  6  7  8  9 10       8  9 10 11 12 13 14\n",
      "13 14 15 16 17 18 19      11 12 13 14 15 16 17      15 16 17 18 19 20 21\n",
      "20 21 22 23 24 25 26      18 19 20 21 22 23 24      22 23 24 25 26 27 28\n",
      "27 28 29 30               25 26 27 28 29 30 31      29 30\n",
      "\n",
      "        July                     August                  September\n",
      "Mo Tu We Th Fr Sa Su      Mo Tu We Th Fr Sa Su      Mo Tu We Th Fr Sa Su\n",
      "       1  2  3  4  5                      1  2          1  2  3  4  5  6\n",
      " 6  7  8  9 10 11 12       3  4  5  6  7  8  9       7  8  9 10 11 12 13\n",
      "13 14 15 16 17 18 19      10 11 12 13 14 15 16      14 15 16 17 18 19 20\n",
      "20 21 22 23 24 25 26      17 18 19 20 21 22 23      21 22 23 24 25 26 27\n",
      "27 28 29 30 31            24 25 26 27 28 29 30      28 29 30\n",
      "                          31\n",
      "\n",
      "      October                   November                  December\n",
      "Mo Tu We Th Fr Sa Su      Mo Tu We Th Fr Sa Su      Mo Tu We Th Fr Sa Su\n",
      "          1  2  3  4                         1          1  2  3  4  5  6\n",
      " 5  6  7  8  9 10 11       2  3  4  5  6  7  8       7  8  9 10 11 12 13\n",
      "12 13 14 15 16 17 18       9 10 11 12 13 14 15      14 15 16 17 18 19 20\n",
      "19 20 21 22 23 24 25      16 17 18 19 20 21 22      21 22 23 24 25 26 27\n",
      "26 27 28 29 30 31         23 24 25 26 27 28 29      28 29 30 31\n",
      "                          30\n",
      "\n"
     ]
    }
   ],
   "source": [
    "import calendar\n",
    "print(\"Enter Year: \")\n",
    "y = int(input())\n",
    "Cal = calendar.calendar(y)\n",
    "print(Cal)\n"
   ]
  },
  {
   "cell_type": "markdown",
   "metadata": {},
   "source": [
    "# 4.\tWrite a Python program to solve quadratic equation?"
   ]
  },
  {
   "cell_type": "code",
   "execution_count": 95,
   "metadata": {},
   "outputs": [
    {
     "name": "stdout",
     "output_type": "stream",
     "text": [
      "Enter below coefficients: \n",
      "a: 1\n",
      "b: 2\n",
      "c: 3\n",
      "To find x, placing all values of a,b,c in the Quadratic Formula: x =  −b ± √(b2 − 4ac)2a \n",
      "The values of x: (-2+4j) (-2-4j) \n"
     ]
    }
   ],
   "source": [
    "'''Standard form of Quadratic Equation: ax^2 + bx + c = 0\n",
    "a, b and c are known values. a can't be 0.\n",
    "\"x\" is the variable or unknown (we don't know it yet).\n",
    "#Quadratic Formula:\tx =  −b ± √(b2 − 4ac)2a '''\n",
    "        \n",
    "from cmath import sqrt                # used this one coz math.sqrt wont work with -ve number\n",
    "print(\"Enter below coefficients: \")\n",
    "\n",
    "while True:\n",
    "    a= float(input(\"a: \"))\n",
    "    if a == 0:\n",
    "        print(\"Value of a cant be 0, re-enter...\")\n",
    "    else: break\n",
    "\n",
    "\n",
    "b = float(input(\"b: \"))\n",
    "c = float(input(\"c: \"))\n",
    "\n",
    "print(\"To find x, placing all values of a,b,c in the Quadratic Formula: x =  −b ± √(b2 − 4ac)2a \")      \n",
    "\n",
    "qe = ((b**2) - (4*a*c)) * 2*a\n",
    "soln_plus = (-b + (sqrt(qe)))\n",
    "soln_minus = (-b - (sqrt(qe)))\n",
    "print(\"The values of x: {} {} \".format(soln_plus, soln_minus))\n"
   ]
  },
  {
   "cell_type": "markdown",
   "metadata": {},
   "source": [
    "# 5.\tWrite a Python program to swap two variables without temp variable"
   ]
  },
  {
   "cell_type": "code",
   "execution_count": 3,
   "metadata": {},
   "outputs": [
    {
     "name": "stdout",
     "output_type": "stream",
     "text": [
      "Enter 2 numbers: \n",
      "50\n",
      "60\n",
      "First Number: 50 \n",
      "Second Number: 60\n",
      "\n",
      " After Swaping.... \n",
      "\n",
      "First Number: 60 \n",
      "Second Number: 50\n"
     ]
    }
   ],
   "source": [
    "print(\"Enter 2 numbers: \")\n",
    "a, b = int(input()), int(input())\n",
    "\n",
    "print(\"First Number: {} \\nSecond Number: {}\".format(a,b))\n",
    "a, b = b, a\n",
    "print(\"\\n After Swaping.... \\n\")\n",
    "print(\"First Number: {} \\nSecond Number: {}\".format(a,b))"
   ]
  },
  {
   "cell_type": "code",
   "execution_count": null,
   "metadata": {},
   "outputs": [],
   "source": []
  }
 ],
 "metadata": {
  "kernelspec": {
   "display_name": "Python 3",
   "language": "python",
   "name": "python3"
  },
  "language_info": {
   "codemirror_mode": {
    "name": "ipython",
    "version": 3
   },
   "file_extension": ".py",
   "mimetype": "text/x-python",
   "name": "python",
   "nbconvert_exporter": "python",
   "pygments_lexer": "ipython3",
   "version": "3.6.4"
  }
 },
 "nbformat": 4,
 "nbformat_minor": 2
}
